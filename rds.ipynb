{
 "cells": [
  {
   "cell_type": "code",
   "execution_count": 13,
   "metadata": {},
   "outputs": [],
   "source": [
    "import boto3\n",
    "from mypy_boto3_rds import RDSClient\n",
    "from pprint import pprint\n",
    "import botocore.exceptions\n"
   ]
  },
  {
   "cell_type": "code",
   "execution_count": 14,
   "metadata": {},
   "outputs": [],
   "source": [
    "s3_bucket_name = 'peakyblinders1'\n",
    "security_group_name = 'web-tier'\n",
    "instance_key_name = 'Vishal'\n",
    "ec2_role_name = 'Devil'\n",
    "security_group_id = 'sg-06a3c78a81d0056da'\n"
   ]
  },
  {
   "cell_type": "code",
   "execution_count": 15,
   "metadata": {},
   "outputs": [],
   "source": [
    "database_name = \"contactform\"\n",
    "database_username = \"admin\"\n",
    "database_password = \"password\"\n",
    "rds_client: RDSClient = boto3.client(\"rds\")"
   ]
  },
  {
   "cell_type": "code",
   "execution_count": 16,
   "metadata": {},
   "outputs": [
    {
     "name": "stdout",
     "output_type": "stream",
     "text": [
      "{'AllocatedStorage': 20,\n",
      " 'AssociatedRoles': [],\n",
      " 'AutoMinorVersionUpgrade': True,\n",
      " 'AvailabilityZone': 'ap-south-1a',\n",
      " 'BackupRetentionPeriod': 1,\n",
      " 'BackupTarget': 'region',\n",
      " 'CACertificateIdentifier': 'rds-ca-2019',\n",
      " 'CertificateDetails': {'CAIdentifier': 'rds-ca-2019'},\n",
      " 'CopyTagsToSnapshot': False,\n",
      " 'CustomerOwnedIpEnabled': False,\n",
      " 'DBInstanceArn': 'arn:aws:rds:ap-south-1:854935464603:db:contactform',\n",
      " 'DBInstanceClass': 'db.t3.micro',\n",
      " 'DBInstanceIdentifier': 'contactform',\n",
      " 'DBInstanceStatus': 'creating',\n",
      " 'DBName': 'contactform',\n",
      " 'DBParameterGroups': [{'DBParameterGroupName': 'default.mysql8.0',\n",
      "                        'ParameterApplyStatus': 'in-sync'}],\n",
      " 'DBSecurityGroups': [],\n",
      " 'DBSubnetGroup': {'DBSubnetGroupDescription': 'DB subnet',\n",
      "                   'DBSubnetGroupName': 'db-group',\n",
      "                   'SubnetGroupStatus': 'Complete',\n",
      "                   'Subnets': [{'SubnetAvailabilityZone': {'Name': 'ap-south-1a'},\n",
      "                                'SubnetIdentifier': 'subnet-06d8d87920e940944',\n",
      "                                'SubnetOutpost': {},\n",
      "                                'SubnetStatus': 'Active'},\n",
      "                               {'SubnetAvailabilityZone': {'Name': 'ap-south-1b'},\n",
      "                                'SubnetIdentifier': 'subnet-0a12b31f815c9f0a8',\n",
      "                                'SubnetOutpost': {},\n",
      "                                'SubnetStatus': 'Active'},\n",
      "                               {'SubnetAvailabilityZone': {'Name': 'ap-south-1c'},\n",
      "                                'SubnetIdentifier': 'subnet-0eb69b5a8d29bcd65',\n",
      "                                'SubnetOutpost': {},\n",
      "                                'SubnetStatus': 'Active'}],\n",
      "                   'VpcId': 'vpc-06b0fd12d7d791cf2'},\n",
      " 'DbInstancePort': 0,\n",
      " 'DbiResourceId': 'db-LKE4SRQRY2GQPQDN2VQR3FLSWM',\n",
      " 'DeletionProtection': False,\n",
      " 'DomainMemberships': [],\n",
      " 'Engine': 'mysql',\n",
      " 'EngineVersion': '8.0.33',\n",
      " 'IAMDatabaseAuthenticationEnabled': False,\n",
      " 'LicenseModel': 'general-public-license',\n",
      " 'MasterUsername': 'admin',\n",
      " 'MonitoringInterval': 0,\n",
      " 'MultiAZ': False,\n",
      " 'NetworkType': 'IPV4',\n",
      " 'OptionGroupMemberships': [{'OptionGroupName': 'default:mysql-8-0',\n",
      "                             'Status': 'in-sync'}],\n",
      " 'PendingModifiedValues': {'MasterUserPassword': '****'},\n",
      " 'PerformanceInsightsEnabled': False,\n",
      " 'PreferredBackupWindow': '17:49-18:19',\n",
      " 'PreferredMaintenanceWindow': 'sun:06:09-sun:06:39',\n",
      " 'PubliclyAccessible': True,\n",
      " 'ReadReplicaDBInstanceIdentifiers': [],\n",
      " 'StorageEncrypted': False,\n",
      " 'StorageThroughput': 0,\n",
      " 'StorageType': 'gp2',\n",
      " 'TagList': [],\n",
      " 'VpcSecurityGroups': [{'Status': 'active',\n",
      "                        'VpcSecurityGroupId': 'sg-06a3c78a81d0056da'}]}\n"
     ]
    }
   ],
   "source": [
    "try:\n",
    "    new_instance = rds_client.create_db_instance(\n",
    "        Engine=\"MySQL\",\n",
    "        DBInstanceClass=\"db.t3.micro\",\n",
    "        DBInstanceIdentifier=database_name,\n",
    "        DBName='contactform',\n",
    "        PubliclyAccessible=True,\n",
    "        MasterUsername=database_username,\n",
    "        MasterUserPassword=database_password,\n",
    "        AllocatedStorage=20,\n",
    "        VpcSecurityGroupIds=[\n",
    "            'sg-06a3c78a81d0056da',\n",
    "        ],\n",
    "        DBSubnetGroupName='db-group',\n",
    "        Port=3306,\n",
    "        AvailabilityZone='ap-south-1a',\n",
    "    )[\"DBInstance\"]\n",
    "    pprint(new_instance)\n",
    "except botocore.exceptions.ClientError as error:\n",
    "    print(error)\n"
   ]
  },
  {
   "cell_type": "code",
   "execution_count": 17,
   "metadata": {},
   "outputs": [
    {
     "data": {
      "text/plain": [
       "{'DBInstanceIdentifier': 'contactform',\n",
       " 'DBInstanceClass': 'db.t3.micro',\n",
       " 'Engine': 'mysql',\n",
       " 'DBInstanceStatus': 'available',\n",
       " 'MasterUsername': 'admin',\n",
       " 'DBName': 'contactform',\n",
       " 'Endpoint': {'Address': 'contactform.cfmfrfg6ylcp.ap-south-1.rds.amazonaws.com',\n",
       "  'Port': 3306,\n",
       "  'HostedZoneId': 'Z2VFMSZA74J7XZ'},\n",
       " 'AllocatedStorage': 20,\n",
       " 'InstanceCreateTime': datetime.datetime(2023, 10, 7, 19, 10, 59, 228000, tzinfo=tzutc()),\n",
       " 'PreferredBackupWindow': '17:49-18:19',\n",
       " 'BackupRetentionPeriod': 1,\n",
       " 'DBSecurityGroups': [],\n",
       " 'VpcSecurityGroups': [{'VpcSecurityGroupId': 'sg-06a3c78a81d0056da',\n",
       "   'Status': 'active'}],\n",
       " 'DBParameterGroups': [{'DBParameterGroupName': 'default.mysql8.0',\n",
       "   'ParameterApplyStatus': 'in-sync'}],\n",
       " 'AvailabilityZone': 'ap-south-1a',\n",
       " 'DBSubnetGroup': {'DBSubnetGroupName': 'db-group',\n",
       "  'DBSubnetGroupDescription': 'DB subnet',\n",
       "  'VpcId': 'vpc-06b0fd12d7d791cf2',\n",
       "  'SubnetGroupStatus': 'Complete',\n",
       "  'Subnets': [{'SubnetIdentifier': 'subnet-06d8d87920e940944',\n",
       "    'SubnetAvailabilityZone': {'Name': 'ap-south-1a'},\n",
       "    'SubnetOutpost': {},\n",
       "    'SubnetStatus': 'Active'},\n",
       "   {'SubnetIdentifier': 'subnet-0a12b31f815c9f0a8',\n",
       "    'SubnetAvailabilityZone': {'Name': 'ap-south-1b'},\n",
       "    'SubnetOutpost': {},\n",
       "    'SubnetStatus': 'Active'},\n",
       "   {'SubnetIdentifier': 'subnet-0eb69b5a8d29bcd65',\n",
       "    'SubnetAvailabilityZone': {'Name': 'ap-south-1c'},\n",
       "    'SubnetOutpost': {},\n",
       "    'SubnetStatus': 'Active'}]},\n",
       " 'PreferredMaintenanceWindow': 'sun:06:09-sun:06:39',\n",
       " 'PendingModifiedValues': {},\n",
       " 'LatestRestorableTime': datetime.datetime(2023, 10, 7, 19, 12, 11, 757000, tzinfo=tzutc()),\n",
       " 'MultiAZ': False,\n",
       " 'EngineVersion': '8.0.33',\n",
       " 'AutoMinorVersionUpgrade': True,\n",
       " 'ReadReplicaDBInstanceIdentifiers': [],\n",
       " 'LicenseModel': 'general-public-license',\n",
       " 'OptionGroupMemberships': [{'OptionGroupName': 'default:mysql-8-0',\n",
       "   'Status': 'in-sync'}],\n",
       " 'PubliclyAccessible': True,\n",
       " 'StorageType': 'gp2',\n",
       " 'DbInstancePort': 0,\n",
       " 'StorageEncrypted': False,\n",
       " 'DbiResourceId': 'db-LKE4SRQRY2GQPQDN2VQR3FLSWM',\n",
       " 'CACertificateIdentifier': 'rds-ca-2019',\n",
       " 'DomainMemberships': [],\n",
       " 'CopyTagsToSnapshot': False,\n",
       " 'MonitoringInterval': 0,\n",
       " 'DBInstanceArn': 'arn:aws:rds:ap-south-1:854935464603:db:contactform',\n",
       " 'IAMDatabaseAuthenticationEnabled': False,\n",
       " 'PerformanceInsightsEnabled': False,\n",
       " 'DeletionProtection': False,\n",
       " 'AssociatedRoles': [],\n",
       " 'TagList': [],\n",
       " 'CustomerOwnedIpEnabled': False,\n",
       " 'ActivityStreamStatus': 'stopped',\n",
       " 'BackupTarget': 'region',\n",
       " 'NetworkType': 'IPV4',\n",
       " 'StorageThroughput': 0,\n",
       " 'CertificateDetails': {'CAIdentifier': 'rds-ca-2019',\n",
       "  'ValidTill': datetime.datetime(2024, 8, 22, 17, 8, 50, tzinfo=tzutc())}}"
      ]
     },
     "execution_count": 17,
     "metadata": {},
     "output_type": "execute_result"
    }
   ],
   "source": [
    "creation_waiter = rds_client.get_waiter(\"db_instance_available\")\n",
    "creation_waiter.wait(DBInstanceIdentifier=database_name)\n",
    "\n",
    "instance = rds_client.describe_db_instances()[\"DBInstances\"][0]\n",
    "instance\n"
   ]
  },
  {
   "cell_type": "code",
   "execution_count": 18,
   "metadata": {},
   "outputs": [
    {
     "data": {
      "text/plain": [
       "'contactform.cfmfrfg6ylcp.ap-south-1.rds.amazonaws.com'"
      ]
     },
     "execution_count": 18,
     "metadata": {},
     "output_type": "execute_result"
    }
   ],
   "source": [
    "host_name = instance[\"Endpoint\"][\"Address\"]\n",
    "host_name"
   ]
  },
  {
   "cell_type": "code",
   "execution_count": null,
   "metadata": {},
   "outputs": [],
   "source": []
  }
 ],
 "metadata": {
  "interpreter": {
   "hash": "767d51c1340bd893661ea55ea3124f6de3c7a262a8b4abca0554b478b1e2ff90"
  },
  "kernelspec": {
   "display_name": "Python 3.9.7 64-bit",
   "name": "python3"
  },
  "language_info": {
   "codemirror_mode": {
    "name": "ipython",
    "version": 3
   },
   "file_extension": ".py",
   "mimetype": "text/x-python",
   "name": "python",
   "nbconvert_exporter": "python",
   "pygments_lexer": "ipython3",
   "version": "3.11.2"
  },
  "orig_nbformat": 4
 },
 "nbformat": 4,
 "nbformat_minor": 2
}
