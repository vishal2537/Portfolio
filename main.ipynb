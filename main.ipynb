{
 "cells": [
  {
   "cell_type": "code",
   "execution_count": 2,
   "metadata": {},
   "outputs": [],
   "source": [
    "import boto3\n",
    "from mypy_boto3_rds import RDSClient\n",
    "from pprint import pprint\n",
    "import botocore.exceptions\n"
   ]
  },
  {
   "cell_type": "code",
   "execution_count": 3,
   "metadata": {},
   "outputs": [],
   "source": [
    "s3_bucket_name = 'peakyblinders2'\n",
    "security_group_name = 'web-tier'\n",
    "instance_key_name = 'Vishal'\n",
    "ec2_role_name = 'Devil'\n",
    "security_group_id = 'sg-06a3c78a81d0056da'\n"
   ]
  },
  {
   "cell_type": "code",
   "execution_count": 4,
   "metadata": {},
   "outputs": [],
   "source": [
    "database_name = \"contactform\"\n",
    "database_username = \"admin\"\n",
    "database_password = \"password\"\n",
    "rds_client: RDSClient = boto3.client(\"rds\")"
   ]
  },
  {
   "cell_type": "code",
   "execution_count": 4,
   "metadata": {},
   "outputs": [
    {
     "name": "stdout",
     "output_type": "stream",
     "text": [
      "{'AllocatedStorage': 20,\n",
      " 'AssociatedRoles': [],\n",
      " 'AutoMinorVersionUpgrade': True,\n",
      " 'AvailabilityZone': 'ap-south-1a',\n",
      " 'BackupRetentionPeriod': 1,\n",
      " 'BackupTarget': 'region',\n",
      " 'CACertificateIdentifier': 'rds-ca-2019',\n",
      " 'CertificateDetails': {'CAIdentifier': 'rds-ca-2019'},\n",
      " 'CopyTagsToSnapshot': False,\n",
      " 'CustomerOwnedIpEnabled': False,\n",
      " 'DBInstanceArn': 'arn:aws:rds:ap-south-1:854935464603:db:contactform',\n",
      " 'DBInstanceClass': 'db.t3.micro',\n",
      " 'DBInstanceIdentifier': 'contactform',\n",
      " 'DBInstanceStatus': 'creating',\n",
      " 'DBName': 'contactform',\n",
      " 'DBParameterGroups': [{'DBParameterGroupName': 'default.mysql8.0',\n",
      "                        'ParameterApplyStatus': 'in-sync'}],\n",
      " 'DBSecurityGroups': [],\n",
      " 'DBSubnetGroup': {'DBSubnetGroupDescription': 'DB subnet',\n",
      "                   'DBSubnetGroupName': 'db-group',\n",
      "                   'SubnetGroupStatus': 'Complete',\n",
      "                   'Subnets': [{'SubnetAvailabilityZone': {'Name': 'ap-south-1a'},\n",
      "                                'SubnetIdentifier': 'subnet-06d8d87920e940944',\n",
      "                                'SubnetOutpost': {},\n",
      "                                'SubnetStatus': 'Active'},\n",
      "                               {'SubnetAvailabilityZone': {'Name': 'ap-south-1b'},\n",
      "                                'SubnetIdentifier': 'subnet-0a12b31f815c9f0a8',\n",
      "                                'SubnetOutpost': {},\n",
      "                                'SubnetStatus': 'Active'},\n",
      "                               {'SubnetAvailabilityZone': {'Name': 'ap-south-1c'},\n",
      "                                'SubnetIdentifier': 'subnet-0eb69b5a8d29bcd65',\n",
      "                                'SubnetOutpost': {},\n",
      "                                'SubnetStatus': 'Active'}],\n",
      "                   'VpcId': 'vpc-06b0fd12d7d791cf2'},\n",
      " 'DbInstancePort': 0,\n",
      " 'DbiResourceId': 'db-PF76WVWI3LPFQSNN5YX2OI2ABU',\n",
      " 'DeletionProtection': False,\n",
      " 'DomainMemberships': [],\n",
      " 'Engine': 'mysql',\n",
      " 'EngineVersion': '8.0.33',\n",
      " 'IAMDatabaseAuthenticationEnabled': False,\n",
      " 'LicenseModel': 'general-public-license',\n",
      " 'MasterUsername': 'admin',\n",
      " 'MonitoringInterval': 0,\n",
      " 'MultiAZ': False,\n",
      " 'NetworkType': 'IPV4',\n",
      " 'OptionGroupMemberships': [{'OptionGroupName': 'default:mysql-8-0',\n",
      "                             'Status': 'in-sync'}],\n",
      " 'PendingModifiedValues': {'MasterUserPassword': '****'},\n",
      " 'PerformanceInsightsEnabled': False,\n",
      " 'PreferredBackupWindow': '16:52-17:22',\n",
      " 'PreferredMaintenanceWindow': 'thu:11:30-thu:12:00',\n",
      " 'PubliclyAccessible': True,\n",
      " 'ReadReplicaDBInstanceIdentifiers': [],\n",
      " 'StorageEncrypted': False,\n",
      " 'StorageThroughput': 0,\n",
      " 'StorageType': 'gp2',\n",
      " 'TagList': [],\n",
      " 'VpcSecurityGroups': [{'Status': 'active',\n",
      "                        'VpcSecurityGroupId': 'sg-06a3c78a81d0056da'}]}\n"
     ]
    }
   ],
   "source": [
    "try:\n",
    "    new_instance = rds_client.create_db_instance(\n",
    "        Engine=\"MySQL\",\n",
    "        DBInstanceClass=\"db.t3.micro\",\n",
    "        DBInstanceIdentifier=database_name,\n",
    "        DBName='contactform',\n",
    "        PubliclyAccessible=True,\n",
    "        MasterUsername=database_username,\n",
    "        MasterUserPassword=database_password,\n",
    "        AllocatedStorage=20,\n",
    "        VpcSecurityGroupIds=[\n",
    "            'sg-06a3c78a81d0056da',\n",
    "        ],\n",
    "        DBSubnetGroupName='db-group',\n",
    "        Port=3306,\n",
    "        AvailabilityZone='ap-south-1a',\n",
    "    )[\"DBInstance\"]\n",
    "    pprint(new_instance)\n",
    "except botocore.exceptions.ClientError as error:\n",
    "    print(error)\n"
   ]
  },
  {
   "cell_type": "code",
   "execution_count": 5,
   "metadata": {},
   "outputs": [
    {
     "data": {
      "text/plain": [
       "{'DBInstanceIdentifier': 'contactform',\n",
       " 'DBInstanceClass': 'db.t3.micro',\n",
       " 'Engine': 'mysql',\n",
       " 'DBInstanceStatus': 'available',\n",
       " 'MasterUsername': 'admin',\n",
       " 'DBName': 'contactform',\n",
       " 'Endpoint': {'Address': 'contactform.cfmfrfg6ylcp.ap-south-1.rds.amazonaws.com',\n",
       "  'Port': 3306,\n",
       "  'HostedZoneId': 'Z2VFMSZA74J7XZ'},\n",
       " 'AllocatedStorage': 20,\n",
       " 'InstanceCreateTime': datetime.datetime(2023, 10, 12, 12, 54, 18, 422000, tzinfo=tzutc()),\n",
       " 'PreferredBackupWindow': '16:52-17:22',\n",
       " 'BackupRetentionPeriod': 1,\n",
       " 'DBSecurityGroups': [],\n",
       " 'VpcSecurityGroups': [{'VpcSecurityGroupId': 'sg-06a3c78a81d0056da',\n",
       "   'Status': 'active'}],\n",
       " 'DBParameterGroups': [{'DBParameterGroupName': 'default.mysql8.0',\n",
       "   'ParameterApplyStatus': 'in-sync'}],\n",
       " 'AvailabilityZone': 'ap-south-1a',\n",
       " 'DBSubnetGroup': {'DBSubnetGroupName': 'db-group',\n",
       "  'DBSubnetGroupDescription': 'DB subnet',\n",
       "  'VpcId': 'vpc-06b0fd12d7d791cf2',\n",
       "  'SubnetGroupStatus': 'Complete',\n",
       "  'Subnets': [{'SubnetIdentifier': 'subnet-06d8d87920e940944',\n",
       "    'SubnetAvailabilityZone': {'Name': 'ap-south-1a'},\n",
       "    'SubnetOutpost': {},\n",
       "    'SubnetStatus': 'Active'},\n",
       "   {'SubnetIdentifier': 'subnet-0a12b31f815c9f0a8',\n",
       "    'SubnetAvailabilityZone': {'Name': 'ap-south-1b'},\n",
       "    'SubnetOutpost': {},\n",
       "    'SubnetStatus': 'Active'},\n",
       "   {'SubnetIdentifier': 'subnet-0eb69b5a8d29bcd65',\n",
       "    'SubnetAvailabilityZone': {'Name': 'ap-south-1c'},\n",
       "    'SubnetOutpost': {},\n",
       "    'SubnetStatus': 'Active'}]},\n",
       " 'PreferredMaintenanceWindow': 'thu:11:30-thu:12:00',\n",
       " 'PendingModifiedValues': {},\n",
       " 'LatestRestorableTime': datetime.datetime(2023, 10, 12, 12, 55, 1, tzinfo=tzutc()),\n",
       " 'MultiAZ': False,\n",
       " 'EngineVersion': '8.0.33',\n",
       " 'AutoMinorVersionUpgrade': True,\n",
       " 'ReadReplicaDBInstanceIdentifiers': [],\n",
       " 'LicenseModel': 'general-public-license',\n",
       " 'OptionGroupMemberships': [{'OptionGroupName': 'default:mysql-8-0',\n",
       "   'Status': 'in-sync'}],\n",
       " 'PubliclyAccessible': True,\n",
       " 'StorageType': 'gp2',\n",
       " 'DbInstancePort': 0,\n",
       " 'StorageEncrypted': False,\n",
       " 'DbiResourceId': 'db-PF76WVWI3LPFQSNN5YX2OI2ABU',\n",
       " 'CACertificateIdentifier': 'rds-ca-2019',\n",
       " 'DomainMemberships': [],\n",
       " 'CopyTagsToSnapshot': False,\n",
       " 'MonitoringInterval': 0,\n",
       " 'DBInstanceArn': 'arn:aws:rds:ap-south-1:854935464603:db:contactform',\n",
       " 'IAMDatabaseAuthenticationEnabled': False,\n",
       " 'PerformanceInsightsEnabled': False,\n",
       " 'DeletionProtection': False,\n",
       " 'AssociatedRoles': [],\n",
       " 'TagList': [],\n",
       " 'CustomerOwnedIpEnabled': False,\n",
       " 'ActivityStreamStatus': 'stopped',\n",
       " 'BackupTarget': 'region',\n",
       " 'NetworkType': 'IPV4',\n",
       " 'StorageThroughput': 0,\n",
       " 'CertificateDetails': {'CAIdentifier': 'rds-ca-2019',\n",
       "  'ValidTill': datetime.datetime(2024, 8, 22, 17, 8, 50, tzinfo=tzutc())}}"
      ]
     },
     "execution_count": 5,
     "metadata": {},
     "output_type": "execute_result"
    }
   ],
   "source": [
    "ww = rds_client.get_waiter(\"db_instance_available\")\n",
    "ww.wait(DBInstanceIdentifier=database_name)\n",
    "\n",
    "instance = rds_client.describe_db_instances()[\"DBInstances\"][0]\n",
    "instance\n"
   ]
  },
  {
   "cell_type": "code",
   "execution_count": 6,
   "metadata": {},
   "outputs": [
    {
     "data": {
      "text/plain": [
       "'contactform.cfmfrfg6ylcp.ap-south-1.rds.amazonaws.com'"
      ]
     },
     "execution_count": 6,
     "metadata": {},
     "output_type": "execute_result"
    }
   ],
   "source": [
    "host_name = instance[\"Endpoint\"][\"Address\"]\n",
    "host_name"
   ]
  },
  {
   "cell_type": "code",
   "execution_count": 5,
   "metadata": {},
   "outputs": [
    {
     "name": "stdout",
     "output_type": "stream",
     "text": [
      "[ec2.Instance(id='i-0bcb27c6875ec05a7')]\n",
      "ec2-65-0-133-40.ap-south-1.compute.amazonaws.com\n"
     ]
    }
   ],
   "source": [
    "ec2 = boto3.resource(\"ec2\")\n",
    "\n",
    "instances = ec2.create_instances(\n",
    "    ImageId='ami-0ded8326293d3201b',\n",
    "    MinCount=1,\n",
    "    MaxCount=1,\n",
    "    InstanceType=\"t2.micro\",\n",
    "    IamInstanceProfile= { 'Name': 'Devil'},\n",
    "    KeyName=instance_key_name,\n",
    "    SecurityGroupIds=[security_group_id],\n",
    "    UserData=open(\n",
    "        \"start_script1.sh\"\n",
    "    ).read(),\n",
    ")\n",
    "\n",
    "print(instances)\n",
    "instance = instances[0]\n",
    "instance.wait_until_running()\n",
    "instance.load()\n",
    "\n",
    "service1 = instance.public_dns_name\n",
    "print(instance.public_dns_name)"
   ]
  },
  {
   "cell_type": "code",
   "execution_count": 10,
   "metadata": {},
   "outputs": [
    {
     "name": "stdout",
     "output_type": "stream",
     "text": [
      "[ec2.Instance(id='i-08b73b2c77bc9399a')]\n",
      "ec2-15-206-186-205.ap-south-1.compute.amazonaws.com\n"
     ]
    }
   ],
   "source": [
    "ec2 = boto3.resource(\"ec2\")\n",
    "\n",
    "instances = ec2.create_instances(\n",
    "    ImageId='ami-0ded8326293d3201b',\n",
    "    MinCount=1,\n",
    "    MaxCount=1,\n",
    "    InstanceType=\"t2.micro\",\n",
    "    IamInstanceProfile={'Name': 'Devil'},\n",
    "    KeyName=instance_key_name,\n",
    "    SecurityGroupIds=[security_group_id],\n",
    "    UserData=open(\n",
    "        \"start_script4.sh\"\n",
    "    ).read(),\n",
    ")\n",
    "\n",
    "print(instances)\n",
    "instance = instances[0]\n",
    "instance.wait_until_running()\n",
    "instance.load()\n",
    "\n",
    "service2 = instance.public_dns_name\n",
    "print(instance.public_dns_name)\n",
    "\n",
    "\n"
   ]
  },
  {
   "cell_type": "code",
   "execution_count": 8,
   "metadata": {},
   "outputs": [
    {
     "name": "stdout",
     "output_type": "stream",
     "text": [
      "[ec2.Instance(id='i-046176775f4090fc7')]\n",
      "ec2-65-1-148-153.ap-south-1.compute.amazonaws.com\n"
     ]
    }
   ],
   "source": [
    "ec2 = boto3.resource(\"ec2\")\n",
    "\n",
    "instances = ec2.create_instances(\n",
    "    ImageId='ami-0ded8326293d3201b',\n",
    "    MinCount=1,\n",
    "    MaxCount=1,\n",
    "    InstanceType=\"t2.micro\",\n",
    "    IamInstanceProfile={'Name': 'Devil'},\n",
    "    KeyName=instance_key_name,\n",
    "    SecurityGroupIds=[security_group_id],\n",
    "    UserData=open(\n",
    "        \"start_script3.sh\"\n",
    "    ).read(),\n",
    ")\n",
    "\n",
    "print(instances)\n",
    "instance = instances[0]\n",
    "instance.wait_until_running()\n",
    "instance.load()\n",
    "\n",
    "service3 = instance.public_dns_name\n",
    "print(instance.public_dns_name)\n"
   ]
  },
  {
   "cell_type": "code",
   "execution_count": 7,
   "metadata": {},
   "outputs": [
    {
     "name": "stdout",
     "output_type": "stream",
     "text": [
      "[ec2.Instance(id='i-0e3ab6f427fdc6fef')]\n",
      "ec2-3-110-225-112.ap-south-1.compute.amazonaws.com\n"
     ]
    }
   ],
   "source": [
    "ec2 = boto3.resource(\"ec2\")\n",
    "\n",
    "instances = ec2.create_instances(\n",
    "    ImageId='ami-0ded8326293d3201b',\n",
    "    MinCount=1,\n",
    "    MaxCount=1,\n",
    "    InstanceType=\"t2.micro\",\n",
    "    IamInstanceProfile={'Name': 'Devil'},\n",
    "    KeyName=instance_key_name,\n",
    "    SecurityGroupIds=[security_group_id],\n",
    "    UserData=open(\n",
    "        \"start_script2.sh\"\n",
    "    ).read(),\n",
    ")\n",
    "\n",
    "print(instances)\n",
    "instance = instances[0]\n",
    "instance.wait_until_running()\n",
    "instance.load()\n",
    "\n",
    "service = instance.public_dns_name\n",
    "print(instance.public_dns_name)\n"
   ]
  }
 ],
 "metadata": {
  "interpreter": {
   "hash": "767d51c1340bd893661ea55ea3124f6de3c7a262a8b4abca0554b478b1e2ff90"
  },
  "kernelspec": {
   "display_name": "Python 3.9.7 64-bit",
   "name": "python3"
  },
  "language_info": {
   "codemirror_mode": {
    "name": "ipython",
    "version": 3
   },
   "file_extension": ".py",
   "mimetype": "text/x-python",
   "name": "python",
   "nbconvert_exporter": "python",
   "pygments_lexer": "ipython3",
   "version": "3.11.2"
  },
  "orig_nbformat": 4
 },
 "nbformat": 4,
 "nbformat_minor": 2
}
